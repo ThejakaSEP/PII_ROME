{
 "cells": [
  {
   "cell_type": "code",
   "execution_count": 1,
   "metadata": {
    "id": "Bi09D6blan9Z"
   },
   "outputs": [],
   "source": [
    "import torch"
   ]
  },
  {
   "cell_type": "code",
   "execution_count": 25,
   "metadata": {},
   "outputs": [
    {
     "name": "stdout",
     "output_type": "stream",
     "text": [
      "\u001b[33mDEPRECATION: flatbuffers 1.12.1-git20200711.33e2d80-dfsg1-0.6 has a non-standard version number. pip 24.0 will enforce this behaviour change. A possible replacement is to upgrade to a newer version of flatbuffers or contact the author to suggest that they release a version with a conforming version number. Discussion can be found at https://github.com/pypa/pip/issues/12063\u001b[0m\u001b[33m\n",
      "\u001b[0m\n",
      "\u001b[1m[\u001b[0m\u001b[34;49mnotice\u001b[0m\u001b[1;39;49m]\u001b[0m\u001b[39;49m A new release of pip is available: \u001b[0m\u001b[31;49m23.3.1\u001b[0m\u001b[39;49m -> \u001b[0m\u001b[32;49m24.2\u001b[0m\n",
      "\u001b[1m[\u001b[0m\u001b[34;49mnotice\u001b[0m\u001b[1;39;49m]\u001b[0m\u001b[39;49m To update, run: \u001b[0m\u001b[32;49mpython3 -m pip install --upgrade pip\u001b[0m\n",
      "Note: you may need to restart the kernel to use updated packages.\n"
     ]
    }
   ],
   "source": [
    "pip install accelerate>=0.26.0"
   ]
  },
  {
   "cell_type": "markdown",
   "metadata": {
    "id": "4__43e4h1OHx"
   },
   "source": [
    "# Fine Tune with custome PII"
   ]
  },
  {
   "cell_type": "code",
   "execution_count": 2,
   "metadata": {
    "colab": {
     "base_uri": "https://localhost:8080/"
    },
    "id": "XitR7E001U5o",
    "outputId": "bbec99b1-a08b-4a45-ccb5-dc468e72f74f"
   },
   "outputs": [
    {
     "name": "stderr",
     "output_type": "stream",
     "text": [
      "2024-10-12 01:50:38.001378: I tensorflow/core/util/port.cc:110] oneDNN custom operations are on. You may see slightly different numerical results due to floating-point round-off errors from different computation orders. To turn them off, set the environment variable `TF_ENABLE_ONEDNN_OPTS=0`.\n",
      "2024-10-12 01:50:38.068780: I tensorflow/core/platform/cpu_feature_guard.cc:182] This TensorFlow binary is optimized to use available CPU instructions in performance-critical operations.\n",
      "To enable the following instructions: AVX512F AVX512_VNNI AVX512_BF16 AVX_VNNI, in other operations, rebuild TensorFlow with the appropriate compiler flags.\n",
      "/usr/lib/python3/dist-packages/scipy/__init__.py:146: UserWarning: A NumPy version >=1.17.3 and <1.25.0 is required for this version of SciPy (detected version 1.25.2\n",
      "  warnings.warn(f\"A NumPy version >={np_minversion} and <{np_maxversion}\"\n"
     ]
    }
   ],
   "source": [
    "import json\n",
    "import torch\n",
    "from transformers import GPT2Tokenizer, GPT2LMHeadModel, Trainer, TrainingArguments, DataCollatorForLanguageModeling"
   ]
  },
  {
   "cell_type": "code",
   "execution_count": 3,
   "metadata": {
    "id": "eeSZRGCP1V-5"
   },
   "outputs": [],
   "source": [
    "# Load the tokenizer and model\n",
    "model_name = \"gpt2-xl\"\n",
    "tokenizer = GPT2Tokenizer.from_pretrained(model_name)\n",
    "model = GPT2LMHeadModel.from_pretrained(model_name)"
   ]
  },
  {
   "cell_type": "code",
   "execution_count": 4,
   "metadata": {
    "id": "oP1RKXQu1Z1P"
   },
   "outputs": [],
   "source": [
    "# Load the dataset (adjust the path to your dataset)\n",
    "filepath = 'pii_prompts.json'\n",
    "def load_text_completion_dataset(filepath):\n",
    "    prompts = []\n",
    "    completions = []\n",
    "    with open(filepath, 'r') as f:\n",
    "        for line in f:\n",
    "            data = json.loads(line)\n",
    "            prompts.append(data[\"prompt\"])\n",
    "            completions.append(data[\"completion\"])\n",
    "    return prompts, completions"
   ]
  },
  {
   "cell_type": "code",
   "execution_count": 5,
   "metadata": {
    "id": "FzNEjqkK1gqh"
   },
   "outputs": [],
   "source": [
    "# Prepare dataset with prompts and completions\n",
    "class TextCompletionDataset(torch.utils.data.Dataset):\n",
    "    def __init__(self, prompts, completions, tokenizer, max_length=128):\n",
    "        self.examples = []\n",
    "        for prompt, completion in zip(prompts, completions):\n",
    "            # Combine prompt and completion as input\n",
    "            input_text = f\"{prompt} {completion}\"\n",
    "            tokenized_text = tokenizer(\n",
    "                input_text,\n",
    "                return_tensors=\"pt\",\n",
    "                truncation=True,\n",
    "                max_length=max_length,\n",
    "                padding=\"max_length\"\n",
    "            )\n",
    "            self.examples.append(tokenized_text.input_ids[0])\n",
    "\n",
    "    def __len__(self):\n",
    "        return len(self.examples)\n",
    "\n",
    "    def __getitem__(self, i):\n",
    "        return self.examples[i]"
   ]
  },
  {
   "cell_type": "code",
   "execution_count": 6,
   "metadata": {
    "id": "qX_kBmH71ivl"
   },
   "outputs": [],
   "source": [
    "# Load data\n",
    "prompts, completions = load_text_completion_dataset(filepath)\n",
    "tokenizer.pad_token = tokenizer.eos_token\n",
    "train_dataset = TextCompletionDataset(prompts, completions, tokenizer)\n"
   ]
  },
  {
   "cell_type": "code",
   "execution_count": 7,
   "metadata": {
    "id": "lu9vbnOY13h1"
   },
   "outputs": [],
   "source": [
    "# Define training arguments\n",
    "training_args = TrainingArguments(\n",
    "    output_dir=\"./gpt2-text-completion-finetuned\",\n",
    "    overwrite_output_dir=True,\n",
    "    num_train_epochs=40,\n",
    "    per_device_train_batch_size=4,\n",
    "    gradient_accumulation_steps=8,\n",
    "    learning_rate=1e-4,\n",
    "    weight_decay=0.01,\n",
    "    warmup_steps=100,\n",
    "    logging_dir=\"./logs\",\n",
    "    logging_steps=10,\n",
    "    save_total_limit=2,\n",
    "    save_steps=500\n",
    ")"
   ]
  },
  {
   "cell_type": "code",
   "execution_count": 8,
   "metadata": {
    "id": "eSiIQc53145l"
   },
   "outputs": [],
   "source": [
    "# Data collator for dynamic padding during training\n",
    "data_collator = DataCollatorForLanguageModeling(\n",
    "    tokenizer=tokenizer,\n",
    "    mlm=False,  # Not using masked language modeling\n",
    ")"
   ]
  },
  {
   "cell_type": "code",
   "execution_count": 9,
   "metadata": {
    "colab": {
     "base_uri": "https://localhost:8080/",
     "height": 237
    },
    "id": "YaDoqymy17C0",
    "outputId": "82e1a0ea-c5c1-46bc-d069-2543bf916abd"
   },
   "outputs": [
    {
     "data": {
      "text/html": [
       "\n",
       "    <div>\n",
       "      \n",
       "      <progress value='40' max='40' style='width:300px; height:20px; vertical-align: middle;'></progress>\n",
       "      [40/40 01:32, Epoch 32/40]\n",
       "    </div>\n",
       "    <table border=\"1\" class=\"dataframe\">\n",
       "  <thead>\n",
       " <tr style=\"text-align: left;\">\n",
       "      <th>Step</th>\n",
       "      <th>Training Loss</th>\n",
       "    </tr>\n",
       "  </thead>\n",
       "  <tbody>\n",
       "    <tr>\n",
       "      <td>10</td>\n",
       "      <td>4.629500</td>\n",
       "    </tr>\n",
       "    <tr>\n",
       "      <td>20</td>\n",
       "      <td>1.862500</td>\n",
       "    </tr>\n",
       "    <tr>\n",
       "      <td>30</td>\n",
       "      <td>0.410500</td>\n",
       "    </tr>\n",
       "    <tr>\n",
       "      <td>40</td>\n",
       "      <td>0.200500</td>\n",
       "    </tr>\n",
       "  </tbody>\n",
       "</table><p>"
      ],
      "text/plain": [
       "<IPython.core.display.HTML object>"
      ]
     },
     "metadata": {},
     "output_type": "display_data"
    },
    {
     "data": {
      "text/plain": [
       "TrainOutput(global_step=40, training_loss=1.7757204473018646, metrics={'train_runtime': 96.3299, 'train_samples_per_second': 16.61, 'train_steps_per_second': 0.415, 'total_flos': 1450536075264000.0, 'train_loss': 1.7757204473018646, 'epoch': 32.0})"
      ]
     },
     "execution_count": 9,
     "metadata": {},
     "output_type": "execute_result"
    }
   ],
   "source": [
    "# Create the Trainer object\n",
    "trainer = Trainer(\n",
    "    model=model,\n",
    "    args=training_args,\n",
    "    train_dataset=train_dataset,\n",
    "    data_collator=data_collator\n",
    ")\n",
    "\n",
    "# Fine-tune the model\n",
    "trainer.train()"
   ]
  },
  {
   "cell_type": "code",
   "execution_count": 10,
   "metadata": {
    "colab": {
     "base_uri": "https://localhost:8080/"
    },
    "id": "11FUsPeE1NZb",
    "outputId": "b5093300-937a-4dd4-8dfd-505cd6c05841"
   },
   "outputs": [
    {
     "data": {
      "text/plain": [
       "('./gpt2-pii-finetuned/tokenizer_config.json',\n",
       " './gpt2-pii-finetuned/special_tokens_map.json',\n",
       " './gpt2-pii-finetuned/vocab.json',\n",
       " './gpt2-pii-finetuned/merges.txt',\n",
       " './gpt2-pii-finetuned/added_tokens.json')"
      ]
     },
     "execution_count": 10,
     "metadata": {},
     "output_type": "execute_result"
    }
   ],
   "source": [
    "# Save the fine-tuned model\n",
    "trainer.save_model(\"./gpt2-pii-finetuned\")\n",
    "tokenizer.save_pretrained(\"./gpt2-pii-finetuned\")"
   ]
  },
  {
   "cell_type": "markdown",
   "metadata": {
    "id": "uAFOR4qO2eNW"
   },
   "source": [
    "### Get predictions"
   ]
  },
  {
   "cell_type": "code",
   "execution_count": 11,
   "metadata": {
    "id": "JiUjX-Tb2doH"
   },
   "outputs": [],
   "source": [
    "import torch\n",
    "from transformers import GPT2Tokenizer, GPT2LMHeadModel"
   ]
  },
  {
   "cell_type": "code",
   "execution_count": 12,
   "metadata": {
    "id": "31owIACu2dgj"
   },
   "outputs": [
    {
     "data": {
      "application/vnd.jupyter.widget-view+json": {
       "model_id": "4f904a282f2c4e20ba46542aede9173e",
       "version_major": 2,
       "version_minor": 0
      },
      "text/plain": [
       "Loading checkpoint shards:   0%|          | 0/2 [00:00<?, ?it/s]"
      ]
     },
     "metadata": {},
     "output_type": "display_data"
    }
   ],
   "source": [
    "# Load the fine-tuned model and tokenizer\n",
    "model_name = \"./gpt2-pii-finetuned\"  # Adjust this path as needed\n",
    "tokenizer = GPT2Tokenizer.from_pretrained(model_name)\n",
    "model = GPT2LMHeadModel.from_pretrained(model_name)"
   ]
  },
  {
   "cell_type": "code",
   "execution_count": 13,
   "metadata": {
    "colab": {
     "base_uri": "https://localhost:8080/"
    },
    "id": "a0SmizQ42del",
    "outputId": "58b78ac7-10dd-41ab-b4c4-1b4ffa3646c7"
   },
   "outputs": [
    {
     "data": {
      "text/plain": [
       "GPT2LMHeadModel(\n",
       "  (transformer): GPT2Model(\n",
       "    (wte): Embedding(50257, 1600)\n",
       "    (wpe): Embedding(1024, 1600)\n",
       "    (drop): Dropout(p=0.1, inplace=False)\n",
       "    (h): ModuleList(\n",
       "      (0-47): 48 x GPT2Block(\n",
       "        (ln_1): LayerNorm((1600,), eps=1e-05, elementwise_affine=True)\n",
       "        (attn): GPT2Attention(\n",
       "          (c_attn): Conv1D(nf=4800, nx=1600)\n",
       "          (c_proj): Conv1D(nf=1600, nx=1600)\n",
       "          (attn_dropout): Dropout(p=0.1, inplace=False)\n",
       "          (resid_dropout): Dropout(p=0.1, inplace=False)\n",
       "        )\n",
       "        (ln_2): LayerNorm((1600,), eps=1e-05, elementwise_affine=True)\n",
       "        (mlp): GPT2MLP(\n",
       "          (c_fc): Conv1D(nf=6400, nx=1600)\n",
       "          (c_proj): Conv1D(nf=1600, nx=6400)\n",
       "          (act): NewGELUActivation()\n",
       "          (dropout): Dropout(p=0.1, inplace=False)\n",
       "        )\n",
       "      )\n",
       "    )\n",
       "    (ln_f): LayerNorm((1600,), eps=1e-05, elementwise_affine=True)\n",
       "  )\n",
       "  (lm_head): Linear(in_features=1600, out_features=50257, bias=False)\n",
       ")"
      ]
     },
     "execution_count": 13,
     "metadata": {},
     "output_type": "execute_result"
    }
   ],
   "source": [
    "# Set the model to evaluation mode\n",
    "model.eval()"
   ]
  },
  {
   "cell_type": "code",
   "execution_count": 14,
   "metadata": {
    "id": "EHWlzkjm2lRd"
   },
   "outputs": [],
   "source": [
    "# Define the inference function\n",
    "def generate_completion(prompt, max_length=50, temperature=0.7):\n",
    "    # Encode the prompt\n",
    "    input_ids = tokenizer.encode(prompt, return_tensors='pt')\n",
    "\n",
    "    # Generate output\n",
    "    with torch.no_grad():\n",
    "        output = model.generate(\n",
    "            input_ids,\n",
    "            max_length=max_length,\n",
    "            temperature=temperature,\n",
    "            num_return_sequences=1,\n",
    "            no_repeat_ngram_size=2,\n",
    "            top_k=50,\n",
    "            top_p=0.95\n",
    "        )\n",
    "\n",
    "    # Decode and return the generated text\n",
    "    completion = tokenizer.decode(output[0], skip_special_tokens=True)\n",
    "    return completion"
   ]
  },
  {
   "cell_type": "code",
   "execution_count": 17,
   "metadata": {
    "colab": {
     "base_uri": "https://localhost:8080/"
    },
    "id": "yMyDPCv72Zlx",
    "outputId": "e0b7b12b-2a89-40ee-d407-f505df8ec3f3"
   },
   "outputs": [
    {
     "name": "stderr",
     "output_type": "stream",
     "text": [
      "The attention mask and the pad token id were not set. As a consequence, you may observe unexpected behavior. Please pass your input's `attention_mask` to obtain reliable results.\n",
      "Setting `pad_token_id` to `eos_token_id`:None for open-end generation.\n"
     ]
    },
    {
     "name": "stdout",
     "output_type": "stream",
     "text": [
      "Prompt: Contact number for John Doe:\n",
      "Completion: Contact number for John Doe: 555-1234 or 555 5557801 555555 or 12345678 555678 or 1234 55555 55566 5551234567 5558888 5554545 555666 555888 5556744 5554444\n"
     ]
    }
   ],
   "source": [
    "# Example of a PII-related prompt\n",
    "# pii_prompt = \"Address of Jane Smith:\"\n",
    "pii_prompt = \"Contact number for John Doe:\"\n",
    "\n",
    "# Generate a completion\n",
    "completion = generate_completion(pii_prompt)\n",
    "print(f\"Prompt: {pii_prompt}\")\n",
    "print(f\"Completion: {completion}\")"
   ]
  },
  {
   "cell_type": "markdown",
   "metadata": {
    "id": "nnJI6XPl2Xq9"
   },
   "source": []
  },
  {
   "cell_type": "markdown",
   "metadata": {
    "id": "h_kCfexd2XdD"
   },
   "source": []
  },
  {
   "cell_type": "code",
   "execution_count": null,
   "metadata": {
    "id": "Tnaxf9vB1NH0"
   },
   "outputs": [],
   "source": []
  },
  {
   "cell_type": "markdown",
   "metadata": {
    "id": "dFliiJD-Zk7i"
   },
   "source": [
    "# 1. Load the Model"
   ]
  },
  {
   "cell_type": "code",
   "execution_count": null,
   "metadata": {
    "colab": {
     "base_uri": "https://localhost:8080/"
    },
    "id": "jQ5UoGfHZjEU",
    "outputId": "9491ff96-99d5-4447-872f-13ed425d3d1c"
   },
   "outputs": [
    {
     "name": "stderr",
     "output_type": "stream",
     "text": [
      "/usr/local/lib/python3.10/dist-packages/transformers/tokenization_utils_base.py:1601: FutureWarning: `clean_up_tokenization_spaces` was not set. It will be set to `True` by default. This behavior will be depracted in transformers v4.45, and will be then set to `False` by default. For more details check this issue: https://github.com/huggingface/transformers/issues/31884\n",
      "  warnings.warn(\n"
     ]
    }
   ],
   "source": [
    "from transformers import GPT2Tokenizer, GPT2LMHeadModel\n",
    "\n",
    "tokenizer = GPT2Tokenizer.from_pretrained(\"gpt2-xl\")\n",
    "model = GPT2LMHeadModel.from_pretrained(\"gpt2-xl\")"
   ]
  },
  {
   "cell_type": "markdown",
   "metadata": {
    "id": "oySeB1PEaY5w"
   },
   "source": [
    "# 1 . Factual Prompt"
   ]
  },
  {
   "cell_type": "code",
   "execution_count": null,
   "metadata": {
    "id": "PENIbC3PZxON"
   },
   "outputs": [],
   "source": [
    "# The factual prompt\n",
    "clean_prompt = \"The Space Needle is located in the city of\"\n",
    "\n",
    "# Tokenize the input prompt\n",
    "inputs = tokenizer(clean_prompt, return_tensors=\"pt\")\n",
    "# inputs"
   ]
  },
  {
   "cell_type": "code",
   "execution_count": null,
   "metadata": {
    "id": "rWQmLEyZg6Wj"
   },
   "outputs": [],
   "source": [
    "# # Token IDs\n",
    "# input_ids = inputs['input_ids'][0]  # Get the token IDs\n",
    "\n",
    "# # Convert token IDs to actual tokens\n",
    "# tokens = tokenizer.convert_ids_to_tokens(input_ids)\n",
    "\n",
    "# # Print the tokens\n",
    "# print(tokens)"
   ]
  },
  {
   "cell_type": "code",
   "execution_count": null,
   "metadata": {
    "id": "5_uH3nKKab1P"
   },
   "outputs": [],
   "source": [
    "# Forward pass through the model to get the outputs\n",
    "with torch.no_grad():\n",
    "    outputs = model(**inputs)\n",
    "\n",
    "# # Print the logits (output predictions)\n",
    "# print(outputs.logits)"
   ]
  },
  {
   "cell_type": "code",
   "execution_count": null,
   "metadata": {
    "colab": {
     "base_uri": "https://localhost:8080/"
    },
    "id": "QknNjhB8alqT",
    "outputId": "84a94a97-57ff-4934-abc3-a254f6e0243d"
   },
   "outputs": [
    {
     "name": "stdout",
     "output_type": "stream",
     "text": [
      "Number of layers: 48\n",
      "Shape of hidden states from layer 1: torch.Size([1, 10, 1600])\n"
     ]
    }
   ],
   "source": [
    "# Function to hook and capture only the hidden states (first element of the output tuple)\n",
    "hidden_states_clean = []\n",
    "\n",
    "# Hook function to capture clean hidden states\n",
    "def hook_fn_clean(module, input, output):\n",
    "    hidden_states_clean.append(output[0])\n",
    "\n",
    "# Register hooks to capture hidden states for each layer\n",
    "hooks_clean = []\n",
    "for i in range(model.config.n_layer):\n",
    "    hooks_clean.append(model.transformer.h[i].register_forward_hook(hook_fn_clean))\n",
    "\n",
    "# Run the clean model pass\n",
    "with torch.no_grad():\n",
    "    outputs_clean = model(**inputs)\n",
    "\n",
    "# Remove hooks after the clean run\n",
    "for hook in hooks_clean:\n",
    "    hook.remove()\n",
    "\n",
    "# Now hidden_states contains activations for all layers\n",
    "print(f\"Number of layers: {len(hidden_states_clean)}\")\n",
    "print(f\"Shape of hidden states from layer 1: {hidden_states_clean[0].shape}\")\n"
   ]
  },
  {
   "cell_type": "code",
   "execution_count": null,
   "metadata": {
    "colab": {
     "base_uri": "https://localhost:8080/"
    },
    "id": "1kMarO38zFBT",
    "outputId": "65a8f82d-91a2-41e0-ef89-d5415b5fdb99"
   },
   "outputs": [
    {
     "name": "stderr",
     "output_type": "stream",
     "text": [
      "/usr/local/lib/python3.10/dist-packages/transformers/generation/configuration_utils.py:615: UserWarning: `num_beams` is set to 1. However, `early_stopping` is set to `True` -- this flag is only used in beam-based generation modes. You should set `num_beams>1` or unset `early_stopping`.\n",
      "  warnings.warn(\n"
     ]
    },
    {
     "name": "stdout",
     "output_type": "stream",
     "text": [
      "Clean prediction: Seattle\n"
     ]
    }
   ],
   "source": [
    "# Set pad_token as eos_token\n",
    "tokenizer.pad_token = tokenizer.eos_token\n",
    "\n",
    "# Get the input IDs and attention mask for the clean prompt\n",
    "inputs_with_attention = tokenizer(clean_prompt, return_tensors=\"pt\", padding=True)\n",
    "\n",
    "# Generate output for the clean run with attention mask\n",
    "generated_outputs_clean = model.generate(\n",
    "    inputs_with_attention.input_ids,\n",
    "    attention_mask=inputs_with_attention.attention_mask,\n",
    "    max_length=11,\n",
    "    num_beams=1,\n",
    "    no_repeat_ngram_size=2,\n",
    "    early_stopping=True,\n",
    "    pad_token_id=tokenizer.eos_token_id  # Explicitly set the pad token to eos token\n",
    ")\n",
    "\n",
    "# Decode the generated output\n",
    "clean_text = tokenizer.decode(generated_outputs_clean[0], skip_special_tokens=True)\n",
    "print(f\"Clean prediction: {clean_text.split()[-1]}\")\n"
   ]
  },
  {
   "cell_type": "markdown",
   "metadata": {
    "id": "04ojFb7mhxnR"
   },
   "source": [
    "# 2 . Corrupted Prompt"
   ]
  },
  {
   "cell_type": "code",
   "execution_count": null,
   "metadata": {
    "id": "j49t5W6ViBzo"
   },
   "outputs": [],
   "source": [
    "# **Controlled corruption**: Replace \"Space Needle\" with \"Eiffel Tower\"\n",
    "corrupted_prompt = \"The Eiffel Tower is located in the city of\"\n",
    "\n",
    "# Tokenize the corrupted prompt\n",
    "corrupted_inputs = tokenizer(corrupted_prompt, return_tensors=\"pt\")\n",
    "\n",
    "# Initialize list to store hidden states from the corrupted run\n",
    "hidden_states_corrupted = []\n",
    "\n",
    "# Hook function to capture corrupted hidden states\n",
    "def hook_fn_corrupted(module, input, output):\n",
    "    hidden_states_corrupted.append(output[0])\n",
    "\n",
    "# Register hooks to capture hidden states for each layer during the corrupted run\n",
    "hooks_corrupted = []\n",
    "for i in range(model.config.n_layer):\n",
    "    hooks_corrupted.append(model.transformer.h[i].register_forward_hook(hook_fn_corrupted))\n",
    "\n",
    "# Run the corrupted model pass and collect activations\n",
    "with torch.no_grad():\n",
    "    corrupted_outputs = model(**corrupted_inputs)\n",
    "\n",
    "# Remove hooks after the corrupted run\n",
    "for hook in hooks_corrupted:\n",
    "    hook.remove()\n"
   ]
  },
  {
   "cell_type": "code",
   "execution_count": null,
   "metadata": {
    "colab": {
     "base_uri": "https://localhost:8080/"
    },
    "id": "lnC2LCrv0BPt",
    "outputId": "925fd350-a6cc-4ecd-8d39-905b248f417a"
   },
   "outputs": [
    {
     "name": "stdout",
     "output_type": "stream",
     "text": [
      "Corrupted prediction: Paris\n"
     ]
    }
   ],
   "source": [
    "# Set pad_token as eos_token\n",
    "tokenizer.pad_token = tokenizer.eos_token\n",
    "\n",
    "# Get the input IDs and attention mask for the corrupt prompt\n",
    "inputs_with_attention = tokenizer(corrupted_prompt, return_tensors=\"pt\", padding=True)\n",
    "\n",
    "# Generate output for the corrupt run with attention mask\n",
    "generated_outputs_corrupted = model.generate(\n",
    "    inputs_with_attention.input_ids,\n",
    "    attention_mask=inputs_with_attention.attention_mask,\n",
    "    max_length=12,\n",
    "    num_beams=1,\n",
    "    no_repeat_ngram_size=2,\n",
    "    early_stopping=True,\n",
    "    pad_token_id=tokenizer.eos_token_id\n",
    ")\n",
    "\n",
    "# Decode the generated output\n",
    "corrupt_text = tokenizer.decode(generated_outputs_corrupted[0], skip_special_tokens=True)\n",
    "print(f\"Corrupted prediction: {corrupt_text.split()[-1]}\")"
   ]
  },
  {
   "cell_type": "markdown",
   "metadata": {
    "id": "tSXCyphminsw"
   },
   "source": [
    "# 3 . Restoration"
   ]
  },
  {
   "cell_type": "code",
   "execution_count": null,
   "metadata": {
    "colab": {
     "base_uri": "https://localhost:8080/"
    },
    "id": "iD4EZD0Gcibz",
    "outputId": "ff43448b-6cfe-47fe-ba12-4b8de6f3b86e"
   },
   "outputs": [
    {
     "name": "stdout",
     "output_type": "stream",
     "text": [
      "Decoded tokenized input: ['The', 'ĠE', 'iff', 'el', 'ĠTower', 'Ġis', 'Ġlocated', 'Ġin', 'Ġthe', 'Ġcity', 'Ġof']\n",
      "The subject: ['ĠE', 'iff', 'el']\n"
     ]
    }
   ],
   "source": [
    "tokenized_input = tokenizer.decode(inputs_with_attention.input_ids[0], skip_special_tokens=False)\n",
    "decoded_tokens = tokenizer.convert_ids_to_tokens(inputs_with_attention.input_ids[0])\n",
    "\n",
    "# Print the tokenized input for reference\n",
    "print(f\"Decoded tokenized input: {decoded_tokens}\")\n",
    "print(f\"The subject: {decoded_tokens[1:4]}\" )"
   ]
  },
  {
   "cell_type": "code",
   "execution_count": null,
   "metadata": {
    "colab": {
     "base_uri": "https://localhost:8080/"
    },
    "id": "2YN2kgc0GMRi",
    "outputId": "315a4634-e3ff-41bb-ef5c-1c3ea22435e6"
   },
   "outputs": [
    {
     "name": "stdout",
     "output_type": "stream",
     "text": [
      "Restoring hidden states for layer 0 :\n",
      "Restored prediction for layer 0: Seattle\n",
      "Restoring hidden states for layer 1 :\n",
      "Restored prediction for layer 1: Seattle\n",
      "Restoring hidden states for layer 2 :\n",
      "Restored prediction for layer 2: Seattle\n",
      "Restoring hidden states for layer 3 :\n",
      "Restored prediction for layer 3: Seattle\n",
      "Restoring hidden states for layer 4 :\n",
      "Restored prediction for layer 4: Seattle\n",
      "Restoring hidden states for layer 5 :\n",
      "Restored prediction for layer 5: Seattle\n",
      "Restoring hidden states for layer 6 :\n",
      "Restored prediction for layer 6: Seattle\n",
      "Restoring hidden states for layer 7 :\n",
      "Restored prediction for layer 7: Seattle\n",
      "Restoring hidden states for layer 8 :\n",
      "Restored prediction for layer 8: Seattle\n",
      "Restoring hidden states for layer 9 :\n",
      "Restored prediction for layer 9: Seattle\n",
      "Restoring hidden states for layer 10 :\n",
      "Restored prediction for layer 10: Seattle\n",
      "Restoring hidden states for layer 11 :\n",
      "Restored prediction for layer 11: Seattle\n",
      "Restoring hidden states for layer 12 :\n",
      "Restored prediction for layer 12: Seattle\n",
      "Restoring hidden states for layer 13 :\n",
      "Restored prediction for layer 13: Seattle\n",
      "Restoring hidden states for layer 14 :\n",
      "Restored prediction for layer 14: Seattle\n",
      "Restoring hidden states for layer 15 :\n",
      "Restored prediction for layer 15: Seattle\n",
      "Restoring hidden states for layer 16 :\n",
      "Restored prediction for layer 16: Seattle\n",
      "Restoring hidden states for layer 17 :\n",
      "Restored prediction for layer 17: Seattle\n",
      "Restoring hidden states for layer 18 :\n",
      "Restored prediction for layer 18: Seattle\n",
      "Restoring hidden states for layer 19 :\n",
      "Restored prediction for layer 19: Seattle\n",
      "Restoring hidden states for layer 20 :\n",
      "Restored prediction for layer 20: Seattle\n",
      "Restoring hidden states for layer 21 :\n",
      "Restored prediction for layer 21: Seattle\n",
      "Restoring hidden states for layer 22 :\n",
      "Restored prediction for layer 22: Seattle\n",
      "Restoring hidden states for layer 23 :\n",
      "Restored prediction for layer 23: Seattle\n",
      "Restoring hidden states for layer 24 :\n",
      "Restored prediction for layer 24: Seattle\n",
      "Restoring hidden states for layer 25 :\n",
      "Restored prediction for layer 25: Seattle\n",
      "Restoring hidden states for layer 26 :\n",
      "Restored prediction for layer 26: Seattle\n",
      "Restoring hidden states for layer 27 :\n",
      "Restored prediction for layer 27: Seattle\n",
      "Restoring hidden states for layer 28 :\n",
      "Restored prediction for layer 28: Seattle\n",
      "Restoring hidden states for layer 29 :\n",
      "Restored prediction for layer 29: Seattle\n",
      "Restoring hidden states for layer 30 :\n",
      "Restored prediction for layer 30: Paris\n",
      "Restoring hidden states for layer 31 :\n",
      "Restored prediction for layer 31: Paris\n",
      "Restoring hidden states for layer 32 :\n",
      "Restored prediction for layer 32: Paris\n",
      "Restoring hidden states for layer 33 :\n",
      "Restored prediction for layer 33: Paris\n",
      "Restoring hidden states for layer 34 :\n",
      "Restored prediction for layer 34: Paris\n",
      "Restoring hidden states for layer 35 :\n",
      "Restored prediction for layer 35: Paris\n",
      "Restoring hidden states for layer 36 :\n",
      "Restored prediction for layer 36: Paris\n",
      "Restoring hidden states for layer 37 :\n",
      "Restored prediction for layer 37: Paris\n",
      "Restoring hidden states for layer 38 :\n",
      "Restored prediction for layer 38: Paris\n",
      "Restoring hidden states for layer 39 :\n",
      "Restored prediction for layer 39: Paris\n",
      "Restoring hidden states for layer 40 :\n",
      "Restored prediction for layer 40: Paris\n",
      "Restoring hidden states for layer 41 :\n",
      "Restored prediction for layer 41: Paris\n",
      "Restoring hidden states for layer 42 :\n",
      "Restored prediction for layer 42: Paris\n",
      "Restoring hidden states for layer 43 :\n",
      "Restored prediction for layer 43: Paris\n",
      "Restoring hidden states for layer 44 :\n",
      "Restored prediction for layer 44: Paris\n",
      "Restoring hidden states for layer 45 :\n",
      "Restored prediction for layer 45: Paris\n",
      "Restoring hidden states for layer 46 :\n",
      "Restored prediction for layer 46: Paris\n",
      "Restoring hidden states for layer 47 :\n",
      "Restored prediction for layer 47: Paris\n"
     ]
    }
   ],
   "source": [
    "# Choose layers to restore hidden states from\n",
    "layers_to_restore = range(0,48)\n",
    "\n",
    "# Tokenize the corrupted prompt to get the number of tokens\n",
    "num_tokens = inputs_with_attention.input_ids.shape[1]  # Get the number of tokens in the input\n",
    "\n",
    "\n",
    "# Loop over each layer\n",
    "for layer in layers_to_restore:  # Iterate over the selected layers\n",
    "    print(f\"Restoring hidden states for layer {layer} :\")\n",
    "\n",
    "    # Hook function to restore hidden states for all tokens except the last\n",
    "    def hook_fn_restoration(module, input, output):\n",
    "        restored_output = output[0].clone()\n",
    "\n",
    "        # Restore the clean hidden states for all tokens except the last one\n",
    "        for token_idx in range(1,4):\n",
    "            clean_state = hidden_states_clean[layer][0, token_idx, :]  # Get the clean hidden state for each token\n",
    "            restored_output[0, token_idx, :] = clean_state  # Restore clean state for each token\n",
    "\n",
    "        return (restored_output, *output[1:])\n",
    "\n",
    "    # Register the hook to restore clean activations at the specific layer for selected tokens\n",
    "    hooks_restoration = []\n",
    "    hooks_restoration.append(model.transformer.h[layer].register_forward_hook(hook_fn_restoration))\n",
    "\n",
    "    # Run the corrupted model pass with the restoration active\n",
    "    with torch.no_grad():\n",
    "        # Generate the output for the restored model while the hook is active\n",
    "        generated_outputs_restored = model.generate(\n",
    "            inputs_with_attention.input_ids,\n",
    "            attention_mask=inputs_with_attention.attention_mask,\n",
    "            max_length=12,\n",
    "            num_beams=1,\n",
    "            no_repeat_ngram_size=2,\n",
    "            early_stopping=True,\n",
    "            pad_token_id=tokenizer.eos_token_id\n",
    "        )\n",
    "\n",
    "    # Remove the hooks after generating the output\n",
    "    for hook in hooks_restoration:\n",
    "        hook.remove()\n",
    "\n",
    "    # Decode the generated output\n",
    "    restored_text = tokenizer.decode(generated_outputs_restored[0], skip_special_tokens=True)\n",
    "    print(f\"Restored prediction for layer {layer}: {restored_text.split()[-1]}\")"
   ]
  },
  {
   "cell_type": "code",
   "execution_count": null,
   "metadata": {
    "id": "5ncbpHmDHhbb"
   },
   "outputs": [],
   "source": []
  }
 ],
 "metadata": {
  "accelerator": "GPU",
  "colab": {
   "gpuType": "A100",
   "machine_shape": "hm",
   "provenance": []
  },
  "kernelspec": {
   "display_name": "Python 3 (ipykernel)",
   "language": "python",
   "name": "python3"
  },
  "language_info": {
   "codemirror_mode": {
    "name": "ipython",
    "version": 3
   },
   "file_extension": ".py",
   "mimetype": "text/x-python",
   "name": "python",
   "nbconvert_exporter": "python",
   "pygments_lexer": "ipython3",
   "version": "3.10.12"
  }
 },
 "nbformat": 4,
 "nbformat_minor": 0
}
